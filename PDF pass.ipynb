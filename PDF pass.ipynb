{
 "cells": [
  {
   "cell_type": "code",
   "execution_count": 1,
   "id": "4955a707",
   "metadata": {},
   "outputs": [],
   "source": [
    "import pikepdf"
   ]
  },
  {
   "cell_type": "code",
   "execution_count": 2,
   "id": "e12afd0e",
   "metadata": {},
   "outputs": [
    {
     "name": "stdout",
     "output_type": "stream",
     "text": [
      "new PDF created successfuly with password\n"
     ]
    }
   ],
   "source": [
    "old_PDF = pikepdf.Pdf.open(\"Basic Python slybus.pdf\")\n",
    "\n",
    "allow_key = pikepdf.Permissions(extract=False)\n",
    "\n",
    "old_PDF.save(\"bd.pdf\", encryption = pikepdf.Encryption(user= \"aaZ$\",\n",
    "                                                         owner= \"Problem solve with Ridoy\",\n",
    "                                                         allow= allow_key ))\n",
    "print(\"new PDF created successfuly with password\")"
   ]
  },
  {
   "cell_type": "code",
   "execution_count": 24,
   "id": "7216fc40",
   "metadata": {},
   "outputs": [],
   "source": [
    "def error(a):\n",
    "    if a < 10:\n",
    "        raise Exception (\"please enter >10\",a)\n",
    "    return a"
   ]
  },
  {
   "cell_type": "code",
   "execution_count": 31,
   "id": "4911205a",
   "metadata": {},
   "outputs": [
    {
     "name": "stdout",
     "output_type": "stream",
     "text": [
      "50\n",
      "11\n",
      "4.545454545454546\n"
     ]
    }
   ],
   "source": [
    "try:\n",
    "    a = int(input())\n",
    "    b = int(input())\n",
    "\n",
    "    if b < 10:\n",
    "        s = error(b)\n",
    "        print(s)\n",
    "    elif b > 10:\n",
    "        c = a/b\n",
    "        print(c)\n",
    "except Exception as e:\n",
    "    print(e)"
   ]
  },
  {
   "cell_type": "code",
   "execution_count": null,
   "id": "5a4a9047",
   "metadata": {},
   "outputs": [],
   "source": []
  },
  {
   "cell_type": "code",
   "execution_count": null,
   "id": "3cb27a9d",
   "metadata": {},
   "outputs": [],
   "source": []
  },
  {
   "cell_type": "code",
   "execution_count": null,
   "id": "f569c8b7",
   "metadata": {},
   "outputs": [],
   "source": []
  }
 ],
 "metadata": {
  "kernelspec": {
   "display_name": "Python 3",
   "language": "python",
   "name": "python3"
  },
  "language_info": {
   "codemirror_mode": {
    "name": "ipython",
    "version": 3
   },
   "file_extension": ".py",
   "mimetype": "text/x-python",
   "name": "python",
   "nbconvert_exporter": "python",
   "pygments_lexer": "ipython3",
   "version": "3.8.8"
  }
 },
 "nbformat": 4,
 "nbformat_minor": 5
}
